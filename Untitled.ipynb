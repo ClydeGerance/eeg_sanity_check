{
 "cells": [
  {
   "cell_type": "code",
   "execution_count": 27,
   "id": "9b3d4723-db8e-4495-8ec0-efd211321d26",
   "metadata": {},
   "outputs": [],
   "source": [
    "import pandas as pd\n",
    "import numpy as np\n",
    "from datetime import timedelta"
   ]
  },
  {
   "cell_type": "markdown",
   "id": "96fffd39-cb72-47cf-b060-a407d87dceb1",
   "metadata": {},
   "source": [
    "# Task\n",
    "\n",
    "- If participant A has segmented data, check if segments really belong to participant A\n",
    "\n",
    "## How?\n",
    "\n",
    "- check for intersections of timestamps"
   ]
  },
  {
   "cell_type": "code",
   "execution_count": 42,
   "id": "fd43c9ad-8a29-4082-8c1f-b31d1baf6841",
   "metadata": {},
   "outputs": [],
   "source": [
    "name1 = \"8-name-live_EPOCX_223800_2024.06.05T15.15.10+08.00.md.mc.pm.fe.bp.csv\"\n",
    "name2= \"8-name-live_EPOCX_223800_2024.06.05T15.20.50+08.00.md.mc.pm.fe.bp.csv\"\n",
    "\"8-name-live_EPOCX_223800_2024.06.05T16.20.50+08.00.md.mc.pm.fe.bp.csv\"\n"
   ]
  },
  {
   "cell_type": "code",
   "execution_count": 46,
   "id": "a375909a-ceed-4e95-939f-2a6106637585",
   "metadata": {},
   "outputs": [
    {
     "data": {
      "text/plain": [
       "True"
      ]
     },
     "execution_count": 46,
     "metadata": {},
     "output_type": "execute_result"
    }
   ],
   "source": [
    "name1.split(\"_\")[0] == name2.split(\"_\")[0]"
   ]
  },
  {
   "cell_type": "code",
   "execution_count": 45,
   "id": "a05b4ba1-9a55-4f73-b6b1-233583b80a2e",
   "metadata": {},
   "outputs": [
    {
     "name": "stdout",
     "output_type": "stream",
     "text": [
      "8-name-live\n",
      "8-name-live\n"
     ]
    }
   ],
   "source": [
    "print(name1.split(\"_\")[0])\n",
    "print(name2.split(\"_\")[0])"
   ]
  },
  {
   "cell_type": "code",
   "execution_count": 28,
   "id": "17e60c54-f3f0-42f5-ae55-0aa5c99ae012",
   "metadata": {},
   "outputs": [],
   "source": [
    "root_dir = \"data_csv/live/\"\n",
    "\n",
    "df_1 = pd.read_csv(f\"{root_dir}8-name-live_EPOCX_223800_2024.06.05T15.15.10+08.00.md.mc.pm.fe.bp.csv\", header = 1)\n",
    "df_1[\"Timestamp\"] = pd.to_datetime(df_1[\"Timestamp\"], unit='s') + timedelta(hours=8)\n",
    "df_2 = pd.read_csv(f\"{root_dir}8-name-live_EPOCX_223800_2024.06.05T15.20.50+08.00.md.mc.pm.fe.bp.csv\", header = 1)\n",
    "df_2[\"Timestamp\"] = pd.to_datetime(df_2[\"Timestamp\"], unit='s') + timedelta(hours=8)"
   ]
  },
  {
   "cell_type": "code",
   "execution_count": 29,
   "id": "ba93fc32-c5b1-4fa7-b7e2-790394be64bf",
   "metadata": {},
   "outputs": [],
   "source": [
    "df_1_timestamps = set(df_1.Timestamp) #epoch representation\n",
    "df_2_timestamps = set(df_2.Timestamp) #epoch representation"
   ]
  },
  {
   "cell_type": "code",
   "execution_count": 35,
   "id": "2f9d1a77-5249-460c-ae6a-f5f75911d514",
   "metadata": {},
   "outputs": [
    {
     "data": {
      "text/plain": [
       "True"
      ]
     },
     "execution_count": 35,
     "metadata": {},
     "output_type": "execute_result"
    }
   ],
   "source": [
    "len(df_2_timestamps & df_1_timestamps) == 0"
   ]
  },
  {
   "cell_type": "code",
   "execution_count": 37,
   "id": "a343d697-0b72-48c0-91ef-bdac880c1a31",
   "metadata": {},
   "outputs": [
    {
     "data": {
      "text/plain": [
       "0       2024-06-05 15:15:10.794095104\n",
       "1       2024-06-05 15:15:10.801702912\n",
       "2       2024-06-05 15:15:10.809510912\n",
       "3       2024-06-05 15:15:10.817318912\n",
       "4       2024-06-05 15:15:10.825126912\n",
       "                     ...             \n",
       "11008   2024-06-05 15:18:31.162288896\n",
       "11009   2024-06-05 15:18:31.170097152\n",
       "11010   2024-06-05 15:18:31.177905152\n",
       "11011   2024-06-05 15:18:31.185713152\n",
       "11012   2024-06-05 15:18:32.287286016\n",
       "Name: Timestamp, Length: 11013, dtype: datetime64[ns]"
      ]
     },
     "execution_count": 37,
     "metadata": {},
     "output_type": "execute_result"
    }
   ],
   "source": [
    "df_1[\"Timestamp\"]"
   ]
  },
  {
   "cell_type": "code",
   "execution_count": 41,
   "id": "0d759e22-bf77-4f37-9221-b0bfa90824fd",
   "metadata": {},
   "outputs": [
    {
     "data": {
      "text/plain": [
       "0       0 days 00:05:39.322350848\n",
       "1       0 days 00:05:41.375436032\n",
       "2       0 days 00:05:41.375836160\n",
       "3       0 days 00:05:41.375836160\n",
       "4       0 days 00:05:41.375836160\n",
       "                   ...           \n",
       "11008                         NaT\n",
       "11009                         NaT\n",
       "11010                         NaT\n",
       "11011                         NaT\n",
       "11012                         NaT\n",
       "Name: Timestamp, Length: 11013, dtype: timedelta64[ns]"
      ]
     },
     "execution_count": 41,
     "metadata": {},
     "output_type": "execute_result"
    }
   ],
   "source": [
    "df_2[\"Timestamp\"] - df_1[\"Timestamp\"]"
   ]
  },
  {
   "cell_type": "code",
   "execution_count": null,
   "id": "f98b5e48-1aba-477c-a653-698f8a3de339",
   "metadata": {},
   "outputs": [],
   "source": [
    "csv_path1,csv_path2\n",
    "csv_path3, csv_path4\n"
   ]
  }
 ],
 "metadata": {
  "kernelspec": {
   "display_name": "Python 3 (ipykernel)",
   "language": "python",
   "name": "python3"
  },
  "language_info": {
   "codemirror_mode": {
    "name": "ipython",
    "version": 3
   },
   "file_extension": ".py",
   "mimetype": "text/x-python",
   "name": "python",
   "nbconvert_exporter": "python",
   "pygments_lexer": "ipython3",
   "version": "3.9.18"
  }
 },
 "nbformat": 4,
 "nbformat_minor": 5
}
