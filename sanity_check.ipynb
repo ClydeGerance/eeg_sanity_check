{
 "cells": [
  {
   "cell_type": "code",
   "execution_count": 104,
   "id": "9b3d4723-db8e-4495-8ec0-efd211321d26",
   "metadata": {},
   "outputs": [],
   "source": [
    "# import pandas as pd\n",
    "# import numpy as np\n",
    "# from datetime import timedelta"
   ]
  },
  {
   "cell_type": "markdown",
   "id": "96fffd39-cb72-47cf-b060-a407d87dceb1",
   "metadata": {},
   "source": [
    "# Task\n",
    "\n",
    "- If participant A has segmented data, check if segments really belong to participant A\n",
    "\n",
    "## How?\n",
    "\n",
    "- check for intersections of timestamps"
   ]
  },
  {
   "cell_type": "code",
   "execution_count": 105,
   "id": "a375909a-ceed-4e95-939f-2a6106637585",
   "metadata": {},
   "outputs": [],
   "source": [
    "# name1.split(\"_\")[0] == name2.split(\"_\")[0]"
   ]
  },
  {
   "cell_type": "code",
   "execution_count": 106,
   "id": "a05b4ba1-9a55-4f73-b6b1-233583b80a2e",
   "metadata": {},
   "outputs": [],
   "source": [
    "# print(name1.split(\"_\")[0])\n",
    "# print(name2.split(\"_\")[0])"
   ]
  },
  {
   "cell_type": "code",
   "execution_count": 107,
   "id": "17e60c54-f3f0-42f5-ae55-0aa5c99ae012",
   "metadata": {},
   "outputs": [],
   "source": [
    "# root_dir = \"data_csv/live/\"\n",
    "\n",
    "# df_1 = pd.read_csv(f\"{root_dir}8-PMPerson8D1-live_EPOCX_223800_2024.06.05T15.19.02+08.00.md.mc.pm.fe.bp.csv\", header = 1)\n",
    "# df_1[\"Timestamp\"] = pd.to_datetime(df_1[\"Timestamp\"], unit='s') + timedelta(hours=8)\n",
    "# df_2 = pd.read_csv(f\"{root_dir}8-PMPerson8D1-live_EPOCX_223800_2024.06.05T15.19.33+08.00.md.mc.pm.fe.bp.csv\", header = 1)\n",
    "# df_2[\"Timestamp\"] = pd.to_datetime(df_2[\"Timestamp\"], unit='s') + timedelta(hours=8)\n",
    "# df_3 = pd.read_csv(f\"{root_dir}8-PMPerson8D1-live_EPOCX_223800_2024.06.05T15.20.50+08.00.md.mc.pm.fe.bp.csv\", header = 1)\n",
    "# df_3[\"Timestamp\"] = pd.to_datetime(df_3[\"Timestamp\"], unit='s') + timedelta(hours=8)"
   ]
  },
  {
   "cell_type": "code",
   "execution_count": 108,
   "id": "ba93fc32-c5b1-4fa7-b7e2-790394be64bf",
   "metadata": {},
   "outputs": [],
   "source": [
    "# df_1_timestamps = set(df_1.Timestamp) #epoch representation\n",
    "# df_2_timestamps = set(df_2.Timestamp)\n",
    "# df_3_timestamps = set(df_3.Timestamp) #epoch representation"
   ]
  },
  {
   "cell_type": "code",
   "execution_count": 109,
   "id": "2f9d1a77-5249-460c-ae6a-f5f75911d514",
   "metadata": {},
   "outputs": [],
   "source": [
    "# len(df_2_timestamps & df_1_timestamps & df_3_timestamps) == 0"
   ]
  },
  {
   "cell_type": "code",
   "execution_count": 110,
   "id": "a343d697-0b72-48c0-91ef-bdac880c1a31",
   "metadata": {},
   "outputs": [],
   "source": [
    "# df_1[\"Timestamp\"]"
   ]
  },
  {
   "cell_type": "code",
   "execution_count": 111,
   "id": "0d759e22-bf77-4f37-9221-b0bfa90824fd",
   "metadata": {},
   "outputs": [],
   "source": [
    "# df_2[\"Timestamp\"] - df_1[\"Timestamp\"]"
   ]
  },
  {
   "cell_type": "code",
   "execution_count": 112,
   "id": "f98b5e48-1aba-477c-a653-698f8a3de339",
   "metadata": {},
   "outputs": [],
   "source": [
    "# csv_path1,csv_path2\n",
    "# csv_path3, csv_path4\n"
   ]
  },
  {
   "cell_type": "markdown",
   "id": "54b06bd1",
   "metadata": {},
   "source": [
    "## Clyde's Code"
   ]
  },
  {
   "cell_type": "code",
   "execution_count": 113,
   "id": "4d790f2a",
   "metadata": {},
   "outputs": [],
   "source": [
    "import pandas as pd\n",
    "import numpy as np\n",
    "from datetime import timedelta"
   ]
  },
  {
   "cell_type": "code",
   "execution_count": 114,
   "id": "0452b1a2",
   "metadata": {},
   "outputs": [],
   "source": [
    "# Define the root directory and list of filenames\n",
    "root_dir = \"data_csv/live/\"\n",
    "filenames = [\n",
    "    \"8-PMPerson8D1-live_EPOCX_223800_2024.06.05T15.19.02+08.00.md.mc.pm.fe.bp.csv\",\n",
    "    \"8-PMPerson8D1-live_EPOCX_223800_2024.06.05T15.19.02+08.00.md.mc.pm.fe.bp.csv\",\n",
    "    \"8-PMPerson8D1-live_EPOCX_223800_2024.06.05T15.20.50+08.00.md.mc.pm.fe.bp.csv\"\n",
    "    # \"test-1.1.csv\",\n",
    "    # \"test-2.0.csv\"\n",
    "]"
   ]
  },
  {
   "cell_type": "code",
   "execution_count": 115,
   "id": "afa34c4b",
   "metadata": {},
   "outputs": [],
   "source": [
    "# Initialize a list to store dataframes and timestamps\n",
    "dataframes = []\n",
    "all_timestamps = pd.Series(dtype='datetime64[ns]')\n",
    "timestamp_sources = []\n",
    "\n",
    "# Loop through the filenames, read each CSV, and process the Timestamp\n",
    "for idx, filename in enumerate(filenames):\n",
    "    df = pd.read_csv(f\"{root_dir}{filename}\", header=1)\n",
    "    df[\"Timestamp\"] = pd.to_datetime(df[\"Timestamp\"], unit='s') + timedelta(hours=8)\n",
    "    dataframes.append(df)\n",
    "    all_timestamps = pd.concat([all_timestamps, df[\"Timestamp\"]])\n",
    "    timestamp_sources.extend([(timestamp, idx) for timestamp in df[\"Timestamp\"]])\n",
    "\n",
    "# Convert to DataFrame to check for duplicates with source info\n",
    "timestamp_df = pd.DataFrame(timestamp_sources, columns=[\"Timestamp\", \"Source\"])"
   ]
  },
  {
   "cell_type": "code",
   "execution_count": 116,
   "id": "c2dae3b5",
   "metadata": {},
   "outputs": [
    {
     "name": "stdout",
     "output_type": "stream",
     "text": [
      "There are overlapping timestamps.\n",
      "Timestamp 2024-06-05 15:35:52 is overlapping in files: test-2.0.csv, test-2.0.csv, test-2.0.csv, test-2.0.csv, test-2.0.csv, test-2.0.csv, test-2.0.csv, test-2.0.csv, test-2.0.csv, test-2.0.csv, test-2.0.csv, test-2.0.csv, test-2.0.csv, test-2.0.csv, test-2.0.csv, test-2.0.csv, test-2.0.csv, test-2.0.csv, test-2.0.csv, test-2.0.csv, test-2.0.csv, test-2.0.csv, test-2.0.csv, test-2.0.csv, test-2.0.csv, test-2.0.csv, test-2.0.csv, test-2.0.csv, test-2.0.csv, test-2.0.csv, test-2.0.csv, test-2.0.csv, test-2.0.csv, test-2.0.csv, test-2.0.csv, test-2.0.csv, test-2.0.csv, test-2.0.csv\n",
      "Timestamp 2024-06-05 15:35:53 is overlapping in files: test-2.0.csv, test-2.0.csv, test-2.0.csv, test-2.0.csv, test-2.0.csv, test-2.0.csv, test-2.0.csv, test-2.0.csv, test-2.0.csv, test-2.0.csv, test-2.0.csv, test-2.0.csv, test-2.0.csv, test-2.0.csv, test-2.0.csv, test-2.0.csv, test-2.0.csv, test-2.0.csv, test-2.0.csv, test-2.0.csv, test-2.0.csv, test-2.0.csv, test-2.0.csv, test-2.0.csv, test-2.0.csv, test-2.0.csv, test-2.0.csv, test-2.0.csv, test-2.0.csv, test-2.0.csv, test-2.0.csv, test-2.0.csv, test-2.0.csv, test-2.0.csv, test-2.0.csv, test-2.0.csv, test-2.0.csv, test-2.0.csv, test-2.0.csv, test-2.0.csv, test-2.0.csv, test-2.0.csv, test-2.0.csv, test-2.0.csv, test-2.0.csv, test-2.0.csv, test-2.0.csv, test-2.0.csv, test-2.0.csv, test-2.0.csv, test-2.0.csv, test-2.0.csv, test-2.0.csv, test-2.0.csv, test-2.0.csv, test-2.0.csv, test-2.0.csv, test-2.0.csv, test-2.0.csv, test-2.0.csv, test-2.0.csv, test-2.0.csv, test-2.0.csv, test-2.0.csv, test-2.0.csv, test-2.0.csv, test-2.0.csv, test-2.0.csv, test-2.0.csv, test-2.0.csv, test-2.0.csv, test-2.0.csv, test-2.0.csv, test-2.0.csv, test-2.0.csv, test-2.0.csv, test-2.0.csv, test-2.0.csv, test-2.0.csv, test-2.0.csv, test-2.0.csv, test-2.0.csv, test-2.0.csv, test-2.0.csv, test-2.0.csv, test-2.0.csv, test-2.0.csv, test-2.0.csv, test-2.0.csv, test-2.0.csv, test-2.0.csv, test-2.0.csv, test-2.0.csv, test-2.0.csv, test-2.0.csv, test-2.0.csv, test-2.0.csv, test-2.0.csv, test-2.0.csv, test-2.0.csv, test-2.0.csv, test-2.0.csv, test-2.0.csv, test-2.0.csv, test-2.0.csv, test-2.0.csv, test-2.0.csv, test-2.0.csv, test-2.0.csv, test-2.0.csv, test-2.0.csv, test-2.0.csv, test-2.0.csv, test-2.0.csv, test-2.0.csv, test-2.0.csv, test-2.0.csv, test-2.0.csv, test-2.0.csv, test-2.0.csv, test-2.0.csv, test-2.0.csv, test-2.0.csv, test-2.0.csv, test-2.0.csv, test-2.0.csv, test-2.0.csv, test-2.0.csv\n",
      "Timestamp 2024-06-05 15:35:54 is overlapping in files: test-2.0.csv, test-2.0.csv, test-2.0.csv, test-2.0.csv, test-2.0.csv, test-2.0.csv, test-2.0.csv, test-2.0.csv, test-2.0.csv, test-2.0.csv, test-2.0.csv, test-2.0.csv, test-2.0.csv, test-2.0.csv, test-2.0.csv, test-2.0.csv, test-2.0.csv, test-2.0.csv, test-2.0.csv, test-2.0.csv, test-2.0.csv, test-2.0.csv, test-2.0.csv, test-2.0.csv, test-2.0.csv, test-2.0.csv, test-2.0.csv, test-2.0.csv, test-2.0.csv, test-2.0.csv, test-2.0.csv, test-2.0.csv, test-2.0.csv, test-2.0.csv, test-2.0.csv, test-2.0.csv, test-2.0.csv, test-2.0.csv, test-2.0.csv, test-2.0.csv, test-2.0.csv, test-2.0.csv, test-2.0.csv, test-2.0.csv, test-2.0.csv, test-2.0.csv, test-2.0.csv, test-2.0.csv, test-2.0.csv, test-2.0.csv, test-2.0.csv, test-2.0.csv, test-2.0.csv, test-2.0.csv, test-2.0.csv, test-2.0.csv, test-2.0.csv, test-2.0.csv, test-2.0.csv, test-2.0.csv, test-2.0.csv, test-2.0.csv, test-2.0.csv, test-2.0.csv, test-2.0.csv, test-2.0.csv, test-2.0.csv, test-2.0.csv, test-2.0.csv, test-2.0.csv, test-2.0.csv, test-2.0.csv, test-2.0.csv, test-2.0.csv, test-2.0.csv, test-2.0.csv, test-2.0.csv, test-2.0.csv, test-2.0.csv, test-2.0.csv, test-2.0.csv, test-2.0.csv, test-2.0.csv, test-2.0.csv, test-2.0.csv, test-2.0.csv, test-2.0.csv, test-2.0.csv, test-2.0.csv, test-2.0.csv, test-2.0.csv, test-2.0.csv, test-2.0.csv, test-2.0.csv, test-2.0.csv, test-2.0.csv, test-2.0.csv, test-2.0.csv, test-2.0.csv, test-2.0.csv, test-2.0.csv, test-2.0.csv, test-2.0.csv, test-2.0.csv, test-2.0.csv, test-2.0.csv, test-2.0.csv, test-2.0.csv, test-2.0.csv, test-2.0.csv, test-2.0.csv, test-2.0.csv, test-2.0.csv, test-2.0.csv, test-2.0.csv, test-2.0.csv, test-2.0.csv, test-2.0.csv, test-2.0.csv, test-2.0.csv, test-2.0.csv, test-2.0.csv, test-2.0.csv, test-2.0.csv, test-2.0.csv, test-2.0.csv, test-2.0.csv, test-2.0.csv\n",
      "Timestamp 2024-06-05 15:35:55 is overlapping in files: test-2.0.csv, test-2.0.csv, test-2.0.csv, test-2.0.csv, test-2.0.csv, test-2.0.csv, test-2.0.csv, test-2.0.csv, test-2.0.csv, test-2.0.csv, test-2.0.csv, test-2.0.csv, test-2.0.csv, test-2.0.csv, test-2.0.csv, test-2.0.csv, test-2.0.csv, test-2.0.csv, test-2.0.csv, test-2.0.csv, test-2.0.csv, test-2.0.csv, test-2.0.csv, test-2.0.csv, test-2.0.csv, test-2.0.csv, test-2.0.csv, test-2.0.csv, test-2.0.csv, test-2.0.csv, test-2.0.csv, test-2.0.csv, test-2.0.csv, test-2.0.csv, test-2.0.csv, test-2.0.csv, test-2.0.csv, test-2.0.csv, test-2.0.csv, test-2.0.csv, test-2.0.csv, test-2.0.csv, test-2.0.csv, test-2.0.csv, test-2.0.csv, test-2.0.csv, test-2.0.csv, test-2.0.csv, test-2.0.csv, test-2.0.csv, test-2.0.csv, test-2.0.csv, test-2.0.csv, test-2.0.csv, test-2.0.csv, test-2.0.csv, test-2.0.csv, test-2.0.csv, test-2.0.csv, test-2.0.csv, test-2.0.csv, test-2.0.csv, test-2.0.csv, test-2.0.csv, test-2.0.csv, test-2.0.csv, test-2.0.csv, test-2.0.csv, test-2.0.csv, test-2.0.csv, test-2.0.csv, test-2.0.csv, test-2.0.csv, test-2.0.csv, test-2.0.csv, test-2.0.csv, test-2.0.csv, test-2.0.csv, test-2.0.csv, test-2.0.csv, test-2.0.csv, test-2.0.csv, test-2.0.csv, test-2.0.csv, test-2.0.csv, test-2.0.csv, test-2.0.csv, test-2.0.csv, test-2.0.csv, test-2.0.csv, test-2.0.csv, test-2.0.csv, test-2.0.csv, test-2.0.csv, test-2.0.csv, test-2.0.csv, test-2.0.csv, test-2.0.csv, test-2.0.csv, test-2.0.csv, test-2.0.csv, test-2.0.csv, test-2.0.csv, test-2.0.csv, test-2.0.csv, test-2.0.csv, test-2.0.csv, test-2.0.csv, test-2.0.csv, test-2.0.csv, test-2.0.csv, test-2.0.csv, test-2.0.csv, test-2.0.csv, test-2.0.csv, test-2.0.csv, test-2.0.csv, test-2.0.csv, test-2.0.csv, test-2.0.csv, test-2.0.csv, test-2.0.csv, test-2.0.csv, test-2.0.csv, test-2.0.csv, test-2.0.csv, test-2.0.csv, test-2.0.csv\n",
      "Timestamp 2024-06-05 15:35:56 is overlapping in files: test-2.0.csv, test-2.0.csv, test-2.0.csv, test-2.0.csv, test-2.0.csv, test-2.0.csv, test-2.0.csv, test-2.0.csv, test-2.0.csv, test-2.0.csv, test-2.0.csv, test-2.0.csv, test-2.0.csv, test-2.0.csv, test-2.0.csv, test-2.0.csv, test-2.0.csv, test-2.0.csv, test-2.0.csv, test-2.0.csv, test-2.0.csv, test-2.0.csv, test-2.0.csv, test-2.0.csv, test-2.0.csv, test-2.0.csv, test-2.0.csv, test-2.0.csv, test-2.0.csv, test-2.0.csv, test-2.0.csv, test-2.0.csv, test-2.0.csv, test-2.0.csv, test-2.0.csv, test-2.0.csv, test-2.0.csv, test-2.0.csv, test-2.0.csv, test-2.0.csv, test-2.0.csv, test-2.0.csv, test-2.0.csv, test-2.0.csv, test-2.0.csv, test-2.0.csv, test-2.0.csv, test-2.0.csv, test-2.0.csv, test-2.0.csv, test-2.0.csv, test-2.0.csv, test-2.0.csv, test-2.0.csv, test-2.0.csv, test-2.0.csv, test-2.0.csv, test-2.0.csv, test-2.0.csv, test-2.0.csv, test-2.0.csv, test-2.0.csv, test-2.0.csv, test-2.0.csv, test-2.0.csv, test-2.0.csv, test-2.0.csv, test-2.0.csv, test-2.0.csv, test-2.0.csv, test-2.0.csv, test-2.0.csv, test-2.0.csv, test-2.0.csv, test-2.0.csv, test-2.0.csv, test-2.0.csv, test-2.0.csv, test-2.0.csv, test-2.0.csv, test-2.0.csv, test-2.0.csv, test-2.0.csv, test-2.0.csv, test-2.0.csv, test-2.0.csv, test-2.0.csv, test-2.0.csv, test-2.0.csv, test-2.0.csv, test-2.0.csv, test-2.0.csv, test-2.0.csv, test-2.0.csv, test-2.0.csv, test-2.0.csv, test-2.0.csv, test-2.0.csv, test-2.0.csv, test-2.0.csv, test-2.0.csv, test-2.0.csv, test-2.0.csv, test-2.0.csv, test-2.0.csv, test-2.0.csv, test-2.0.csv, test-2.0.csv, test-2.0.csv, test-2.0.csv, test-2.0.csv, test-2.0.csv, test-2.0.csv, test-2.0.csv, test-2.0.csv, test-2.0.csv, test-2.0.csv, test-2.0.csv, test-2.0.csv, test-2.0.csv, test-2.0.csv, test-2.0.csv, test-2.0.csv, test-2.0.csv, test-2.0.csv, test-2.0.csv, test-2.0.csv, test-2.0.csv\n",
      "Timestamp 2024-06-05 15:35:57 is overlapping in files: test-2.0.csv, test-2.0.csv, test-2.0.csv, test-2.0.csv, test-2.0.csv, test-2.0.csv, test-2.0.csv, test-2.0.csv, test-2.0.csv, test-2.0.csv, test-2.0.csv, test-2.0.csv, test-2.0.csv, test-2.0.csv, test-2.0.csv, test-2.0.csv, test-2.0.csv, test-2.0.csv, test-2.0.csv, test-2.0.csv, test-2.0.csv, test-2.0.csv, test-2.0.csv, test-2.0.csv, test-2.0.csv, test-2.0.csv, test-2.0.csv, test-2.0.csv, test-2.0.csv, test-2.0.csv, test-2.0.csv, test-2.0.csv, test-2.0.csv, test-2.0.csv, test-2.0.csv, test-2.0.csv, test-2.0.csv, test-2.0.csv, test-2.0.csv, test-2.0.csv, test-2.0.csv, test-2.0.csv, test-2.0.csv, test-2.0.csv, test-2.0.csv, test-2.0.csv, test-2.0.csv, test-2.0.csv, test-2.0.csv, test-2.0.csv, test-2.0.csv, test-2.0.csv, test-2.0.csv, test-2.0.csv, test-2.0.csv, test-2.0.csv, test-2.0.csv, test-2.0.csv, test-2.0.csv, test-2.0.csv, test-2.0.csv, test-2.0.csv, test-2.0.csv, test-2.0.csv, test-2.0.csv, test-2.0.csv, test-2.0.csv, test-2.0.csv, test-2.0.csv, test-2.0.csv, test-2.0.csv, test-2.0.csv, test-2.0.csv, test-2.0.csv, test-2.0.csv, test-2.0.csv, test-2.0.csv, test-2.0.csv, test-2.0.csv, test-2.0.csv, test-2.0.csv, test-2.0.csv, test-2.0.csv, test-2.0.csv, test-2.0.csv, test-2.0.csv, test-2.0.csv, test-2.0.csv, test-2.0.csv, test-2.0.csv, test-2.0.csv, test-2.0.csv, test-2.0.csv, test-2.0.csv, test-2.0.csv, test-2.0.csv, test-2.0.csv, test-2.0.csv, test-2.0.csv, test-2.0.csv, test-2.0.csv, test-2.0.csv, test-2.0.csv, test-2.0.csv, test-2.0.csv, test-2.0.csv, test-2.0.csv, test-2.0.csv, test-2.0.csv, test-2.0.csv, test-2.0.csv, test-2.0.csv, test-2.0.csv, test-2.0.csv, test-2.0.csv, test-2.0.csv, test-2.0.csv, test-2.0.csv, test-2.0.csv, test-2.0.csv, test-2.0.csv, test-2.0.csv, test-2.0.csv, test-2.0.csv, test-2.0.csv, test-2.0.csv, test-2.0.csv, test-2.0.csv\n",
      "Timestamp 2024-06-05 15:35:58 is overlapping in files: test-2.0.csv, test-2.0.csv, test-2.0.csv, test-2.0.csv, test-2.0.csv, test-2.0.csv, test-2.0.csv, test-2.0.csv, test-2.0.csv, test-2.0.csv, test-2.0.csv, test-2.0.csv, test-2.0.csv, test-2.0.csv, test-2.0.csv, test-2.0.csv, test-2.0.csv, test-2.0.csv, test-2.0.csv, test-2.0.csv, test-2.0.csv, test-2.0.csv, test-2.0.csv, test-2.0.csv, test-2.0.csv, test-2.0.csv, test-2.0.csv, test-2.0.csv, test-2.0.csv, test-2.0.csv, test-2.0.csv, test-2.0.csv, test-2.0.csv, test-2.0.csv, test-2.0.csv, test-2.0.csv, test-2.0.csv, test-2.0.csv, test-2.0.csv, test-2.0.csv, test-2.0.csv, test-2.0.csv, test-2.0.csv, test-2.0.csv, test-2.0.csv, test-2.0.csv, test-2.0.csv, test-2.0.csv, test-2.0.csv, test-2.0.csv, test-2.0.csv, test-2.0.csv, test-2.0.csv, test-2.0.csv, test-2.0.csv, test-2.0.csv, test-2.0.csv, test-2.0.csv, test-2.0.csv, test-2.0.csv, test-2.0.csv, test-2.0.csv, test-2.0.csv, test-2.0.csv, test-2.0.csv, test-2.0.csv, test-2.0.csv, test-2.0.csv, test-2.0.csv, test-2.0.csv, test-2.0.csv, test-2.0.csv, test-2.0.csv, test-2.0.csv, test-2.0.csv, test-2.0.csv, test-2.0.csv, test-2.0.csv, test-2.0.csv, test-2.0.csv, test-2.0.csv, test-2.0.csv, test-2.0.csv, test-2.0.csv, test-2.0.csv, test-2.0.csv, test-2.0.csv, test-2.0.csv, test-2.0.csv, test-2.0.csv, test-2.0.csv, test-2.0.csv, test-2.0.csv, test-2.0.csv, test-2.0.csv, test-2.0.csv, test-2.0.csv, test-2.0.csv, test-2.0.csv, test-2.0.csv, test-2.0.csv, test-2.0.csv, test-2.0.csv, test-2.0.csv, test-2.0.csv, test-2.0.csv, test-2.0.csv, test-2.0.csv, test-2.0.csv, test-2.0.csv, test-2.0.csv, test-2.0.csv, test-2.0.csv, test-2.0.csv, test-2.0.csv, test-2.0.csv, test-2.0.csv, test-2.0.csv, test-2.0.csv, test-2.0.csv, test-2.0.csv, test-2.0.csv, test-2.0.csv, test-2.0.csv, test-2.0.csv, test-2.0.csv, test-2.0.csv, test-2.0.csv\n",
      "Timestamp 2024-06-05 15:35:59 is overlapping in files: test-2.0.csv, test-2.0.csv, test-2.0.csv, test-2.0.csv, test-2.0.csv, test-2.0.csv, test-2.0.csv, test-2.0.csv, test-2.0.csv, test-2.0.csv, test-2.0.csv, test-2.0.csv, test-2.0.csv, test-2.0.csv, test-2.0.csv, test-2.0.csv, test-2.0.csv, test-2.0.csv, test-2.0.csv, test-2.0.csv, test-2.0.csv, test-2.0.csv, test-2.0.csv, test-2.0.csv, test-2.0.csv, test-2.0.csv, test-2.0.csv, test-2.0.csv, test-2.0.csv, test-2.0.csv, test-2.0.csv, test-2.0.csv, test-2.0.csv, test-2.0.csv, test-2.0.csv, test-2.0.csv, test-2.0.csv, test-2.0.csv, test-2.0.csv, test-2.0.csv, test-2.0.csv, test-2.0.csv, test-2.0.csv, test-2.0.csv, test-2.0.csv, test-2.0.csv, test-2.0.csv, test-2.0.csv, test-2.0.csv, test-2.0.csv, test-2.0.csv, test-2.0.csv, test-2.0.csv, test-2.0.csv, test-2.0.csv, test-2.0.csv, test-2.0.csv, test-2.0.csv, test-2.0.csv, test-2.0.csv, test-2.0.csv, test-2.0.csv, test-2.0.csv, test-2.0.csv, test-2.0.csv, test-2.0.csv, test-2.0.csv, test-2.0.csv, test-2.0.csv, test-2.0.csv, test-2.0.csv, test-2.0.csv, test-2.0.csv, test-2.0.csv, test-2.0.csv, test-2.0.csv, test-2.0.csv, test-2.0.csv, test-2.0.csv, test-2.0.csv, test-2.0.csv, test-2.0.csv, test-2.0.csv, test-2.0.csv, test-2.0.csv, test-2.0.csv, test-2.0.csv, test-2.0.csv, test-2.0.csv, test-2.0.csv, test-2.0.csv, test-2.0.csv, test-2.0.csv, test-2.0.csv, test-2.0.csv, test-2.0.csv, test-2.0.csv, test-2.0.csv, test-2.0.csv, test-2.0.csv, test-2.0.csv, test-2.0.csv, test-2.0.csv, test-2.0.csv, test-2.0.csv, test-2.0.csv, test-2.0.csv, test-2.0.csv, test-2.0.csv, test-2.0.csv, test-2.0.csv, test-2.0.csv, test-2.0.csv, test-2.0.csv, test-2.0.csv, test-2.0.csv, test-2.0.csv, test-2.0.csv, test-2.0.csv, test-2.0.csv, test-2.0.csv, test-2.0.csv, test-2.0.csv, test-2.0.csv, test-2.0.csv, test-2.0.csv, test-2.0.csv, test-2.0.csv\n",
      "Timestamp 2024-06-05 15:36:00 is overlapping in files: test-2.0.csv, test-2.0.csv, test-2.0.csv, test-2.0.csv, test-2.0.csv, test-2.0.csv, test-2.0.csv, test-2.0.csv, test-2.0.csv, test-2.0.csv, test-2.0.csv, test-2.0.csv, test-2.0.csv, test-2.0.csv, test-2.0.csv, test-2.0.csv, test-2.0.csv, test-2.0.csv, test-2.0.csv, test-2.0.csv, test-2.0.csv\n"
     ]
    }
   ],
   "source": [
    "# Check for duplicates in the combined series\n",
    "duplicates = timestamp_df.duplicated(subset=\"Timestamp\", keep=False)\n",
    "\n",
    "# If there are any True values in 'duplicates', it means there are overlapping timestamps\n",
    "if duplicates.any():\n",
    "    print(\"There are overlapping timestamps.\")\n",
    "    overlapping_timestamps = timestamp_df[duplicates]\n",
    "\n",
    "    # Group by Timestamp to find out which files contain the overlaps\n",
    "    grouped = overlapping_timestamps.groupby(\"Timestamp\")[\"Source\"].apply(list)\n",
    "\n",
    "    for timestamp, sources in grouped.items():\n",
    "        overlapping_files = [filenames[source] for source in sources]\n",
    "        print(f\"Timestamp {timestamp} is overlapping in files: {', '.join(overlapping_files)}\")\n",
    "else:\n",
    "    print(\"There are no overlapping timestamps.\")\n"
   ]
  }
 ],
 "metadata": {
  "kernelspec": {
   "display_name": "Python 3 (ipykernel)",
   "language": "python",
   "name": "python3"
  },
  "language_info": {
   "codemirror_mode": {
    "name": "ipython",
    "version": 3
   },
   "file_extension": ".py",
   "mimetype": "text/x-python",
   "name": "python",
   "nbconvert_exporter": "python",
   "pygments_lexer": "ipython3",
   "version": "3.12.2"
  }
 },
 "nbformat": 4,
 "nbformat_minor": 5
}
